{
 "cells": [
  {
   "cell_type": "code",
   "execution_count": null,
   "source": [
    "import pandas as pd\r\n",
    "import matplotlib.pyplot as plt\r\n",
    "import urllib.request\r\n",
    "from gensim.models.word2vec import Word2Vec\r\n",
    "from konlpy.tag import Okt"
   ],
   "outputs": [],
   "metadata": {}
  },
  {
   "cell_type": "code",
   "execution_count": null,
   "source": [
    "# 줄거리 데이터 준비 - 많이 쌓여있을 수록 좋다"
   ],
   "outputs": [],
   "metadata": {}
  },
  {
   "cell_type": "code",
   "execution_count": null,
   "source": [
    "okt = Okt()\r\n",
    "tokenized_data = []\r\n",
    "for sentence in train_data['document']:\r\n",
    "    temp_X = okt.morphs(sentence, stem=True) # 토큰화\r\n",
    "    temp_X = [word for word in temp_X if not word in stopwords] # 불용어 제거\r\n",
    "    tokenized_data.append(temp_X)"
   ],
   "outputs": [],
   "metadata": {}
  },
  {
   "cell_type": "code",
   "execution_count": null,
   "source": [
    "from gensim.models import Word2Vec\r\n",
    "model = Word2Vec(sentences = tokenized_data, size = 100, window = 5, min_count = 5, workers = 4, sg = 0)"
   ],
   "outputs": [],
   "metadata": {}
  },
  {
   "cell_type": "code",
   "execution_count": null,
   "source": [
    "print(model.wv.most_similar(\"한석규\"))"
   ],
   "outputs": [],
   "metadata": {}
  },
  {
   "cell_type": "code",
   "execution_count": null,
   "source": [
    "# 전체 줄거리 설명\r\n",
    "# 우리가 쌓은 줄거리를 기반으로 word 2 vector를 학습시킨다\r\n",
    "# tf_idf에서 뽑은 keyword를 similar word 기법을 상용해서 비슷한 것들을 보면 이 result는 학습된 word를 기반으로 뽑아주기 때문에 유사 단어가 추출된다\r\n",
    "# result 값으로 나온 keyword를 가진 영화가 비슷하다고 판단하기!!"
   ],
   "outputs": [],
   "metadata": {}
  }
 ],
 "metadata": {
  "orig_nbformat": 4,
  "language_info": {
   "name": "python",
   "version": "3.8.11",
   "mimetype": "text/x-python",
   "codemirror_mode": {
    "name": "ipython",
    "version": 3
   },
   "pygments_lexer": "ipython3",
   "nbconvert_exporter": "python",
   "file_extension": ".py"
  },
  "kernelspec": {
   "name": "python3",
   "display_name": "Python 3.8.11 64-bit ('torch': conda)"
  },
  "interpreter": {
   "hash": "b69a98d3df882577ba469635c4ab08c5ae67eaedfd3a57f311f98966a6edb2d0"
  }
 },
 "nbformat": 4,
 "nbformat_minor": 2
}